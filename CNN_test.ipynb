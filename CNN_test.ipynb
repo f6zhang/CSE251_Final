{
 "cells": [
  {
   "cell_type": "code",
   "execution_count": 1,
   "id": "6959e103",
   "metadata": {},
   "outputs": [],
   "source": [
    "from sklearn.datasets import fetch_openml\n",
    "import numpy as np\n",
    "import torch\n",
    "import torch.nn as nn\n",
    "from torch.utils.data import IterableDataset, DataLoader,TensorDataset\n",
    "from torch import optim\n",
    "from torch.autograd import Variable"
   ]
  },
  {
   "cell_type": "code",
   "execution_count": 2,
   "id": "c1bdb4c2",
   "metadata": {},
   "outputs": [],
   "source": [
    "device = torch.device('cuda' if torch.cuda.is_available() else 'cpu')"
   ]
  },
  {
   "cell_type": "code",
   "execution_count": 3,
   "id": "d55289a9",
   "metadata": {},
   "outputs": [],
   "source": [
    "mnist = fetch_openml('mnist_784')\n",
    "data = np.array(mnist.data)\n",
    "labels = np.array(mnist.target)"
   ]
  },
  {
   "cell_type": "code",
   "execution_count": 8,
   "id": "c93dcac2",
   "metadata": {},
   "outputs": [],
   "source": [
    "X_train = data[:60000]\n",
    "y_train = labels[:60000]\n",
    "train_data = TensorDataset(torch.tensor(X_train, dtype=torch.float, device=device),\\\n",
    "                           torch.tensor([int(y) for y in y_train], dtype=torch.int64, device=device))\n",
    "\n",
    "X_val = data[60000:61000]\n",
    "y_val = labels[60000:61000]\n",
    "val_data = TensorDataset(torch.tensor(X_val, dtype=torch.float, device=device), \\\n",
    "                          torch.tensor([int(y) for y in y_val], dtype=torch.int64, device=device))\n",
    "\n",
    "X_test = data[61000:]\n",
    "y_test = labels[61000:]\n",
    "test_data = TensorDataset(torch.tensor(X_test, dtype=torch.float, device=device), \\\n",
    "                          torch.tensor([int(y) for y in y_test], dtype=torch.int64, device=device))\n",
    "\n",
    "train_loader = DataLoader(train_data, num_workers=1, batch_size=32)\n",
    "val_loader = DataLoader(val_data, num_workers=1, batch_size=32)\n",
    "test_loader = DataLoader(test_data, num_workers=1, batch_size=32)"
   ]
  },
  {
   "cell_type": "code",
   "execution_count": 27,
   "id": "7ae1d913",
   "metadata": {},
   "outputs": [],
   "source": [
    "class CNN(nn.Module):\n",
    "    def __init__(self):\n",
    "        super(CNN, self).__init__()\n",
    "        self.conv1 = nn.Sequential(         \n",
    "            nn.Conv2d(in_channels=1, out_channels=16, kernel_size=5, stride=1, padding=2,),                              \n",
    "            nn.ReLU(),                      \n",
    "            nn.MaxPool2d(kernel_size=2),    \n",
    "        )\n",
    "        self.conv2 = nn.Sequential(         \n",
    "            nn.Conv2d(16, 32, 5, 1, 2),     \n",
    "            nn.ReLU(),                      \n",
    "            nn.MaxPool2d(2),                \n",
    "        )\n",
    "        self.out = nn.Linear(32 * 7 * 7, 10)\n",
    "        \n",
    "    def forward(self, x):\n",
    "        batch_size = x.size()[0]\n",
    "        x = x.view(batch_size, 1, 28, 28)\n",
    "        x = self.conv1(x)\n",
    "        x = self.conv2(x)\n",
    "        x = x.view(x.size(0), -1)       \n",
    "        output = self.out(x)\n",
    "        return output\n"
   ]
  },
  {
   "cell_type": "code",
   "execution_count": 40,
   "id": "37df4cab",
   "metadata": {},
   "outputs": [],
   "source": [
    "def save_model(model, path='./latest_model.pt'):\n",
    "    model_dict = model.state_dict()\n",
    "    state_dict = {'model': model_dict}\n",
    "    torch.save(state_dict, path)\n",
    "    \n",
    "def load_model(path='./latest_model.pt'):\n",
    "    model = CNN()\n",
    "    model.load_state_dict(torch.load(path)[\"model\"])\n",
    "    model.to(device)\n",
    "    return model"
   ]
  },
  {
   "cell_type": "code",
   "execution_count": 48,
   "id": "46e87065",
   "metadata": {},
   "outputs": [],
   "source": [
    "model = CNN()\n",
    "optimizer = optim.Adam(model.parameters(), lr = 0.0001)   \n",
    "loss_func = nn.CrossEntropyLoss()"
   ]
  },
  {
   "cell_type": "code",
   "execution_count": 49,
   "id": "edee6baa",
   "metadata": {},
   "outputs": [],
   "source": [
    "def train(num_epochs):\n",
    "    \n",
    "    model.train()\n",
    "    patient = 0\n",
    "    best_loss = 1<<30\n",
    "    iter_loss = 0\n",
    "    training_loss = 0\n",
    "    total_step = len(train_loader)\n",
    "    for epoch in range(num_epochs):\n",
    "        training_loss = 0\n",
    "        for i, (images, labels) in enumerate(train_loader):\n",
    "            output = model(images)             \n",
    "            loss = loss_func(output, labels)\n",
    "            optimizer.zero_grad()           \n",
    "            loss.backward()    \n",
    "            optimizer.step()   \n",
    "            iter_loss += loss.item()\n",
    "            training_loss += loss.item()\n",
    "            \n",
    "            if (i+1) % 100 == 0:\n",
    "                print ('Epoch [{}/{}], Step [{}/{}], Loss: {:.4f}' \n",
    "                       .format(epoch + 1, num_epochs, i + 1, total_step, iter_loss/100.0))\n",
    "                iter_loss = 0.0\n",
    "        print(\"Training Loss is {:.4f}.\".format(training_loss / total_step))\n",
    "             \n",
    "        val_loss, val_acc = evaluate(val_loader)\n",
    "        if val_loss < best_loss:\n",
    "            save_model(model, path='./latest_model.pt')\n",
    "            best_loss = val_loss\n",
    "            patient = 0\n",
    "        else:\n",
    "            patient += 1\n",
    "            if patient >=5:\n",
    "                break"
   ]
  },
  {
   "cell_type": "code",
   "execution_count": 50,
   "id": "1f44f047",
   "metadata": {},
   "outputs": [],
   "source": [
    "def evaluate(data_loader):\n",
    "    model.eval()\n",
    "    correct = 0\n",
    "    total = 0\n",
    "    total_loss = 0\n",
    "    with torch.no_grad():\n",
    "        for images, labels in data_loader:\n",
    "            output= model(images)\n",
    "            loss = loss_func(output, labels)\n",
    "            pred_y = torch.argmax(output, 1)\n",
    "            correct += (pred_y == labels).sum().item()\n",
    "            total += len(labels)\n",
    "            total_loss += loss.item()\n",
    "    accuracy = correct / total\n",
    "    total_loss /= len(data_loader)\n",
    "    print('Accuracy of the model on the evaluate images: %.2f' % accuracy)\n",
    "    print('Loss of the model on the evaluate images: %.2f' % total_loss)\n",
    "    \n",
    "    model.train()\n",
    "    return total_loss, accuracy\n"
   ]
  },
  {
   "cell_type": "code",
   "execution_count": null,
   "id": "c8515c2c",
   "metadata": {},
   "outputs": [
    {
     "name": "stdout",
     "output_type": "stream",
     "text": [
      "Epoch [1/10], Step [100/1875], Loss: 3.4139\n",
      "Epoch [1/10], Step [200/1875], Loss: 0.8555\n",
      "Epoch [1/10], Step [300/1875], Loss: 0.7098\n",
      "Epoch [1/10], Step [400/1875], Loss: 0.5216\n",
      "Epoch [1/10], Step [500/1875], Loss: 0.5235\n",
      "Epoch [1/10], Step [600/1875], Loss: 0.3527\n",
      "Epoch [1/10], Step [700/1875], Loss: 0.2994\n",
      "Epoch [1/10], Step [800/1875], Loss: 0.2588\n",
      "Epoch [1/10], Step [900/1875], Loss: 0.2992\n",
      "Epoch [1/10], Step [1000/1875], Loss: 0.2630\n",
      "Epoch [1/10], Step [1100/1875], Loss: 0.2120\n",
      "Epoch [1/10], Step [1200/1875], Loss: 0.2603\n",
      "Epoch [1/10], Step [1300/1875], Loss: 0.2171\n",
      "Epoch [1/10], Step [1400/1875], Loss: 0.2056\n",
      "Epoch [1/10], Step [1500/1875], Loss: 0.2363\n",
      "Epoch [1/10], Step [1600/1875], Loss: 0.1890\n",
      "Epoch [1/10], Step [1700/1875], Loss: 0.1797\n",
      "Epoch [1/10], Step [1800/1875], Loss: 0.1350\n",
      "Training Loss is 0.4918.\n",
      "Accuracy of the model on the evaluate images: 0.94\n",
      "Loss of the model on the evaluate images: 0.72\n",
      "Epoch [2/10], Step [100/1875], Loss: 0.2307\n",
      "Epoch [2/10], Step [200/1875], Loss: 0.1250\n",
      "Epoch [2/10], Step [300/1875], Loss: 0.1193\n",
      "Epoch [2/10], Step [400/1875], Loss: 0.1137\n",
      "Epoch [2/10], Step [500/1875], Loss: 0.1322\n",
      "Epoch [2/10], Step [600/1875], Loss: 0.1137\n",
      "Epoch [2/10], Step [700/1875], Loss: 0.0809\n",
      "Epoch [2/10], Step [800/1875], Loss: 0.0908\n",
      "Epoch [2/10], Step [900/1875], Loss: 0.1357\n",
      "Epoch [2/10], Step [1000/1875], Loss: 0.1057\n",
      "Epoch [2/10], Step [1100/1875], Loss: 0.0929\n"
     ]
    }
   ],
   "source": [
    "train(10)"
   ]
  },
  {
   "cell_type": "code",
   "execution_count": null,
   "id": "7717318f",
   "metadata": {},
   "outputs": [],
   "source": []
  }
 ],
 "metadata": {
  "kernelspec": {
   "display_name": "Python 3 (ipykernel)",
   "language": "python",
   "name": "python3"
  },
  "language_info": {
   "codemirror_mode": {
    "name": "ipython",
    "version": 3
   },
   "file_extension": ".py",
   "mimetype": "text/x-python",
   "name": "python",
   "nbconvert_exporter": "python",
   "pygments_lexer": "ipython3",
   "version": "3.9.7"
  }
 },
 "nbformat": 4,
 "nbformat_minor": 5
}
